{
 "cells": [
  {
   "cell_type": "code",
   "execution_count": 10,
   "metadata": {},
   "outputs": [
    {
     "data": {
      "text/html": [
       "<style>.container { width:100% !important; }</style>"
      ],
      "text/plain": [
       "<IPython.core.display.HTML object>"
      ]
     },
     "metadata": {},
     "output_type": "display_data"
    }
   ],
   "source": [
    "#optional installations: \n",
    "#!pip install yfinance --upgrade --no-cache-dir\n",
    "#!pip3 install pandas_datareader\n",
    "\n",
    "\n",
    "from IPython.core.display import display, HTML\n",
    "display(HTML(\"<style>.container { width:100% !important; }</style>\"))\n",
    "\n",
    "# ___library_import_statements___\n",
    "import pandas as pd\n",
    "\n",
    "# for pandas_datareader, otherwise it might have issues, sometimes there is some version mismatch\n",
    "pd.core.common.is_list_like = pd.api.types.is_list_like\n",
    "\n",
    "# make pandas to print dataframes nicely\n",
    "pd.set_option('expand_frame_repr', False)  \n",
    "\n",
    "import pandas_datareader.data as web\n",
    "import numpy as np\n",
    "import matplotlib.pyplot as plt\n",
    "import datetime\n",
    "import time\n",
    "\n",
    "#newest yahoo API \n",
    "import yfinance as yahoo_finance\n",
    "\n",
    "#optional \n",
    "#yahoo_finance.pdr_override()\n",
    "\n",
    "%matplotlib inline"
   ]
  },
  {
   "cell_type": "code",
   "execution_count": 11,
   "metadata": {},
   "outputs": [],
   "source": [
    "# ___variables___\n",
    "ticker = 'AAPL'\n",
    "\n",
    "start_time = datetime.datetime(2017, 10, 1)\n",
    "#end_time = datetime.datetime(2019, 1, 20)\n",
    "end_time = datetime.datetime.now().date().isoformat() "
   ]
  },
  {
   "cell_type": "code",
   "execution_count": 12,
   "metadata": {},
   "outputs": [
    {
     "name": "stdout",
     "output_type": "stream",
     "text": [
      "connected to yahoo\n",
      "        Date       High        Low       Open      Close      Volume  Adj Close\n",
      "0 2017-10-02  38.612499  38.180000  38.564999  38.452499  74795200.0  36.815842\n",
      "1 2017-10-03  38.772499  38.477501  38.502499  38.619999  64921200.0  36.976215\n",
      "2 2017-10-04  38.465000  38.115002  38.407501  38.369999  80655200.0  36.736858\n",
      "3 2017-10-05  38.860001  38.512501  38.544998  38.847500  85135200.0  37.194031\n",
      "4 2017-10-06  38.872501  38.639999  38.742500  38.825001  69630400.0  37.172482\n"
     ]
    }
   ],
   "source": [
    "# yahoo gives only daily historical data\n",
    "connected = False\n",
    "while not connected:\n",
    "    try:\n",
    "        ticker_df = web.get_data_yahoo(ticker, start=start_time, end=end_time)\n",
    "        connected = True\n",
    "        print('connected to yahoo')\n",
    "    except Exception as e:\n",
    "        print(\"type error: \" + str(e))\n",
    "        time.sleep( 5 )\n",
    "        pass   \n",
    "\n",
    "# use numerical integer index instead of date    \n",
    "ticker_df = ticker_df.reset_index()\n",
    "print(ticker_df.head(5))"
   ]
  },
  {
   "cell_type": "code",
   "execution_count": null,
   "metadata": {},
   "outputs": [],
   "source": []
  },
  {
   "cell_type": "code",
   "execution_count": null,
   "metadata": {},
   "outputs": [],
   "source": []
  },
  {
   "cell_type": "code",
   "execution_count": null,
   "metadata": {},
   "outputs": [],
   "source": []
  }
 ],
 "metadata": {
  "kernelspec": {
   "display_name": "Python 3",
   "language": "python",
   "name": "python3"
  },
  "language_info": {
   "codemirror_mode": {
    "name": "ipython",
    "version": 3
   },
   "file_extension": ".py",
   "mimetype": "text/x-python",
   "name": "python",
   "nbconvert_exporter": "python",
   "pygments_lexer": "ipython3",
   "version": "3.7.3"
  }
 },
 "nbformat": 4,
 "nbformat_minor": 2
}
