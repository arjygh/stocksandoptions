{
  "nbformat": 4,
  "nbformat_minor": 0,
  "metadata": {
    "colab": {
      "name": "TA-options.ipynb",
      "provenance": [],
      "collapsed_sections": [],
      "toc_visible": true,
      "include_colab_link": true
    },
    "kernelspec": {
      "name": "python369jvsc74a57bd079097c149b7c9c861e3b583dfb4afe09c71f7bb04a1c3c9696133ea87ff0a8ce",
      "display_name": "Python 3.6.9 64-bit ('py36': conda)"
    },
    "language_info": {
      "codemirror_mode": {
        "name": "ipython",
        "version": 3
      },
      "file_extension": ".py",
      "mimetype": "text/x-python",
      "name": "python",
      "nbconvert_exporter": "python",
      "pygments_lexer": "ipython3",
      "version": "3.6.9-final"
    },
    "metadata": {
      "interpreter": {
        "hash": "79097c149b7c9c861e3b583dfb4afe09c71f7bb04a1c3c9696133ea87ff0a8ce"
      }
    }
  },
  "cells": [
    {
      "cell_type": "markdown",
      "metadata": {
        "id": "view-in-github",
        "colab_type": "text"
      },
      "source": [
        "<a href=\"https://colab.research.google.com/github/arjygh/stocksandoptions/blob/AG-edit-after-DM's-df-tickers/stonks.ipynb\" target=\"_parent\"><img src=\"https://colab.research.google.com/assets/colab-badge.svg\" alt=\"Open In Colab\"/></a>"
      ]
    },
    {
      "cell_type": "markdown",
      "metadata": {
        "id": "VJ0gN6wor5Ar"
      },
      "source": [
        "# Call Buy Indicator Code"
      ]
    },
    {
      "cell_type": "code",
      "metadata": {
        "id": "7ZsWIFAGo3F-"
      },
      "source": [
        "%%capture capt\n",
        "\n",
        "##### Importing all packages #####################################\n",
        "# optional installations: \n",
        "!pip install yfinance --upgrade --no-cache-dir\n",
        "!pip3 install pandas_datareader\n",
        "!pip3 install matplotlib\n",
        "!pip install trading-calendars\n",
        "\n",
        "from IPython.core.display import display, HTML\n",
        "display(HTML(\"<style>.container { width:100% !important; }</style>\"))\n",
        "\n",
        "# ___library_import_statements___\n",
        "import pandas as pd\n",
        "\n",
        "import timeit\n",
        "import traceback\n",
        "\n",
        "# for pandas_datareader, otherwise it might have issues, sometimes there is some version mismatch\n",
        "pd.core.common.is_list_like = pd.api.types.is_list_like\n",
        "\n",
        "# make pandas to print dataframes nicely\n",
        "pd.set_option('expand_frame_repr', False)  \n",
        "\n",
        "# import pandas_datareader.data as web\n",
        "# from pandas_datareader import data as pdr\n",
        "import numpy as np\n",
        "import matplotlib.pyplot as plt\n",
        "import datetime as datetime\n",
        "from datetime import timedelta\n",
        "import time\n",
        "import ssl\n",
        "from urllib import request\n",
        "import trading_calendars as tc\n",
        "import pytz\n",
        "\n",
        "#newest yahoo API \n",
        "import yfinance as yahoo_finance\n",
        "\n",
        "#optional \n",
        "# yahoo_finance.pdr_override()\n",
        "%matplotlib inline"
      ],
      "execution_count": 1,
      "outputs": []
    },
    {
      "cell_type": "markdown",
      "metadata": {
        "id": "8nZR8oWHr5Av"
      },
      "source": [
        "## Defining Functions"
      ]
    },
    {
      "cell_type": "markdown",
      "metadata": {
        "id": "tU0_428cr5Av"
      },
      "source": [
        "In this section functions for several technical indicators are coded:\n",
        "1. RSI \n",
        "2. Stochastic Slow\n",
        "3. MACD"
      ]
    },
    {
      "cell_type": "code",
      "metadata": {
        "id": "YKeRN92Ao3GF"
      },
      "source": [
        "def computeRSI(dataframe, time_window):\n",
        "    \n",
        "    '''RSI = Relative Strength Index (https://www.investopedia.com/terms/r/rsi.asp)'''\n",
        "    \n",
        "    diff = dataframe.diff(1).dropna()        # diff in one field(one day)\n",
        "\n",
        "    #this preservers dimensions off diff values\n",
        "    up_chg = 0 * diff\n",
        "    down_chg = 0 * diff\n",
        "    \n",
        "    # up change is equal to the positive difference, otherwise equal to zero\n",
        "    up_chg[diff > 0] = diff[ diff>0 ]\n",
        "    \n",
        "    # down change is equal to negative deifference, otherwise equal to zero\n",
        "    down_chg[diff < 0] = diff[ diff < 0 ]\n",
        "    up_chg_avg   = up_chg.ewm(com=time_window-1 , min_periods=time_window).mean()\n",
        "    down_chg_avg = down_chg.ewm(com=time_window-1 , min_periods=time_window).mean()\n",
        "    \n",
        "    rs = abs(up_chg_avg/down_chg_avg)\n",
        "    rsi = 100 - 100/(1+rs)\n",
        "\n",
        "    return rsi\n",
        "\n",
        "\n",
        "def stochastics(dataframe, low, high, close, k, d):\n",
        "    \"\"\"\n",
        "    Fast stochastic calculation\n",
        "    %K = (Current Close - Lowest Low)/\n",
        "    (Highest High - Lowest Low) * 100\n",
        "    %D = 3-day SMA of %K\n",
        "\n",
        "    Slow stochastic calculation\n",
        "    %K = %D of fast stochastic\n",
        "    %D = 3-day SMA of %K\n",
        "\n",
        "    When %K crosses above %D, buy signal \n",
        "    When the %K crosses below %D, sell signal\n",
        "    \n",
        "    https://www.investopedia.com/terms/s/stochasticoscillator.asp\n",
        "    \"\"\"\n",
        "\n",
        "    df = dataframe.copy()\n",
        "\n",
        "    # Set minimum low and maximum high of the k stoch\n",
        "    low_min  = df[low].rolling( window = k ).min()\n",
        "    high_max = df[high].rolling( window = k ).max()\n",
        "\n",
        "    # Fast Stochastic\n",
        "    df['k_fast'] = 100 * (df[close] - low_min)/(high_max - low_min)\n",
        "    df['d_fast'] = df['k_fast'].rolling(window = d).mean()\n",
        "\n",
        "    # Slow Stochastic\n",
        "    df['k_slow'] = df[\"d_fast\"]\n",
        "    df['d_slow'] = df['k_slow'].rolling(window = d).mean()\n",
        "    df['d_div'] = df['d_fast'] - df['d_slow']\n",
        "\n",
        "    return df\n",
        "\n",
        "def MACD(dataframe,close,span1,span2,sig_span):\n",
        "    \n",
        "    \"\"\"\n",
        "    EMA = exponential moving average\n",
        "    MACD = Moving Average Convergence Divergence = 12Period EMA - 26Period EMA\n",
        "    Signal  = 9Period EMA of MACD\n",
        "    \n",
        "    https://www.investopedia.com/terms/m/macd.asp\n",
        "    \n",
        "    \"\"\"\n",
        "    \n",
        "    df = dataframe.copy()\n",
        "    exp1 = df[close].ewm(span=span1, adjust=False).mean()\n",
        "    exp2 = df[close].ewm(span=span2, adjust=False).mean()\n",
        "    macd = exp1-exp2\n",
        "    exp3 = macd.ewm(span=sig_span, adjust=False).mean()\n",
        "    df['MACD line'] = macd\n",
        "    df['Sig Line'] = exp3\n",
        "    df['MACD_Div'] = macd-exp3\n",
        "    return df\n",
        "\n",
        "def CBI_func(ticker, ticker_df, test_days, holding_days, vol_cutoff, vol_avg_window, \n",
        "             RSI_trend_days, RSI_low, RSI_hi, MACD_Div_trend_days, d_slow_trend_days, d_slow_low, d_slow_hi):\n",
        "    \"\"\"\n",
        "    ticker - S&P500 ticker for which stock prices are obtained\n",
        "    start_time - earliest date at which the stock_price is obtained from yfinance\n",
        "    end_time - latest date at which the stock price is obtained from yfinance\n",
        "    trade_date - a date between the start_time and end_time at which a hypothetical trade is entered\n",
        "\n",
        "    All Technical Indicators are calculated with the \"PAST\" data and Price changes are calculated with the \"FUTURE\" data as defined below:\n",
        "    start_time........................trade_date..........................end_time\n",
        "    [..............PAST..............]          [...........FUTURE...............]\n",
        "\n",
        "    CBI [Cumulative Buying Index]:\n",
        "    - Average of scores calculated from value on trade date, slope and intercept of 'x' days before the trade date of the following Indicators: \n",
        "      - Stochastic slow - 14 day average\n",
        "      - MACD Divergence - standard 12,26,9 day\n",
        "    - Values closer to zero are strong indicators and the distance from zero defines the strength of the indicator, however, within small intervals \n",
        "      distance from zero may not necessarily correlate with strength. For eg: \n",
        "        - CBI of 0.1 and 0.5 is highly likely to indicate strong and weak buy respectively\n",
        "        - CBI of 0.1 and 0.15 may not indicate that the former is a stronger buy than the latter\n",
        "\n",
        "    \"\"\"\n",
        "    df0 = ticker_df\n",
        "    \n",
        "    # Call functions to calculate the Technical Indicators for each date (row) in the dataframe,...\n",
        "    # append as columns to the same dataframe\n",
        "    df0['RSI'] = computeRSI(df0['Adj Close'], 14)\n",
        "    df0 = stochastics( df0, 'Low', 'High', 'Close', 14, 3 )\n",
        "    df0 = MACD(df0, 'Close', 12, 26, 9)\n",
        "    # df0 = slope(df0,3,'RSI')\n",
        "    df0['RSI_slope'] = df0['RSI'].diff(RSI_trend_days)/RSI_trend_days\n",
        "    df0['d_slow_slope'] = df0['d_slow'].diff(d_slow_trend_days)/d_slow_trend_days\n",
        "    df0['MACD_Div_slope'] = df0['MACD_Div'].diff(d_slow_trend_days)/d_slow_trend_days\n",
        "\n",
        "    print(df0)\n",
        "    df0['avg_volume'] = df0.iloc[:,6].rolling(window=vol_avg_window).mean()\n",
        "    \n",
        "\n",
        "    passed_trades = pd.DataFrame()\n",
        "    \n",
        "    # intializing dataframe\n",
        "    column_names = ['Symbol', 'Trade_Date','CBI_SS','CBI_MACD','CBI','Trade_Price','Price_Delta', \n",
        "                    'Avg_Volume', 'RSI_val', 'RSI_slope, intercept', 'SS_val', 'SS_slope, intercept', \n",
        "                    'MSCD_Div_val', 'MACD_Div_slope, intercept']\n",
        "    \n",
        "\n",
        "    df0['Price_Delta'] = (df0['Close'].rolling(holding_days).max().shift(-holding_days+1) - df0['Close'])/df0['Close']*100.\n",
        "    df0['Price_Delta'] = np.where(df0['Price_Delta']<=0., \n",
        "                                        (df0['Close'].rolling(holding_days).min().shift(-holding_days+1) \n",
        "                                         - df0['Close'])/df0['Close']*100., df0['Price_Delta'])\n",
        "    \n",
        "    # Get NYSE Calendar\n",
        "    xnys = tc.get_calendar(\"XNYS\")\n",
        "\n",
        "    for trade_date in test_days:\n",
        "        if xnys.is_session(pd.Timestamp(trade_date, tz='UTC')):\n",
        "            # Date to enter a trade\n",
        "            day0 = trade_date\n",
        "            day_past_MACD = day0 + timedelta(days = MACD_Div_trend_days)\n",
        "\n",
        "            CBIL = [] #Call Buying Indicator List\n",
        "    \n",
        "            #trade date values\n",
        "            RSI_val = df0[df0['Date']==day0]['RSI'].values\n",
        "            MACD_Div_val = df0[df0['Date']==day0]['MACD_Div'].values\n",
        "            d_slow_val = df0[df0['Date']==day0]['d_slow'].values\n",
        "            avg_volume = df0[df0['Date']==day0]['avg_volume'].values\n",
        "            price_delta = df0[df0['Date']==day0]['Price_Delta'].values\n",
        "            trade_date_price = df0[df0['Date']==day0]['Close'].values\n",
        "            RSI_slope = df0[df0['Date']==day0]['RSI_slope'].values\n",
        "            MACD_Div_slope = df0[df0['Date']==day0]['MACD_Div_slope'].values\n",
        "            d_slow_slope = df0[df0['Date']==day0]['d_slow_slope'].values\n",
        "            MACD_Div_val_prev = df0[df0['Date']==day_past_MACD]['MACD_Div'].values\n",
        "\n",
        "    \n",
        "            #slopes\n",
        "            # Extract location of date\n",
        "            # j = df0.loc[(df0[\"Date\"] == day0)].index.item()\n",
        "            # RSI_fit = slope_calculator(df0[j-RSI_trend_days:j+1], RSI_trend_days, day0, 'RSI') #num_days >=3\n",
        "            # MACD_Div_fit = slope_calculator(df0[j-MACD_Div_trend_days:j+1], MACD_Div_trend_days, day0, 'MACD_Div') #num_days >=3\n",
        "            # d_slow_fit = slope_calculator(df0[j-d_slow_trend_days:j+1], d_slow_trend_days, day0, 'd_slow') #num_days >=3\n",
        "    \n",
        "            # Vol and RSI crieria\n",
        "            if avg_volume > vol_cutoff and RSI_val > RSI_low and RSI_val < RSI_hi and RSI_slope > 0:\n",
        "                CBIL.append(day0)\n",
        "    \n",
        "                # TECHNICAL INDICATORS ALGEBRA #\n",
        "                if d_slow_val > d_slow_low and d_slow_val < d_slow_hi and d_slow_slope > 0:\n",
        "                    CBIL.append((abs(d_slow_val - 0.5*(d_slow_hi + d_slow_low))/(0.5*(d_slow_hi - d_slow_low))).item())\n",
        "                else: \n",
        "                    CBIL.append(10.0)\n",
        "    \n",
        "                if MACD_Div_val < 0 and MACD_Div_val_prev < 0 and MACD_Div_slope > 0:\n",
        "                    CBIL.append((MACD_Div_val/MACD_Div_val_prev).item())\n",
        "                else: \n",
        "                    CBIL.append(10.0)\n",
        "\n",
        "      \n",
        "                CBIL.append(trade_date_price)\n",
        "                CBIL.append(price_delta)\n",
        "                CBI = 0.5*(CBIL[1] + CBIL[2])\n",
        "                CBIL.append(CBI)\n",
        "                \n",
        "                if CBIL[5] < 1.0:\n",
        "                    output = [ticker, CBIL[0], CBIL[1], CBIL[2], CBIL[5], CBIL[3].item(), CBIL[4].item(), \n",
        "                              avg_volume, RSI_val.item(), RSI_slope, d_slow_val.item(), d_slow_slope, MACD_Div_val.item(), MACD_Div_slope]\n",
        "                    passed = pd.DataFrame([output], columns=column_names)\n",
        "                    passed_trades = passed_trades.append(passed, ignore_index = True)\n",
        "        \n",
        "            \n",
        "    return passed_trades\n",
        "  "
      ],
      "execution_count": 2,
      "outputs": []
    },
    {
      "cell_type": "markdown",
      "metadata": {
        "id": "7SK-3UfEr5Ax"
      },
      "source": [
        "## Main Code - Testing for 1 Ticker"
      ]
    },
    {
      "cell_type": "code",
      "metadata": {
        "id": "-eE4JZ9FoS4E"
      },
      "source": [
        "def connect_and_get_cbi_for_dataframe(ticker, dataframe, test_days):\n",
        "    \"\"\"\n",
        "    Call CBI function to get relevant data\n",
        "    \"\"\"\n",
        "    # Get Stock Prices for the ticker between start_time and end_time\n",
        "\n",
        "    try:\n",
        "        dataframe.reset_index(inplace=True)\n",
        "\n",
        "        output = CBI_func(ticker, dataframe, test_days, holding_days = 15, vol_cutoff = 2.0e6, \n",
        "                          vol_avg_window = 7, RSI_trend_days = 7, RSI_low = 40., RSI_hi = 75., MACD_Div_trend_days = 4, \n",
        "                          d_slow_trend_days = 4, d_slow_low = 10., d_slow_hi = 50.)\n",
        "        return output\n",
        "    except Exception as e:\n",
        "        print('Analyzed Security: ', ticker_list, 'No Data')\n",
        "        traceback.print_exc()\n",
        "        return pd.DataFrame()\n",
        "\n",
        "def connect_and_get_cbi_for_ticker_list(ticker_list, start_time_for_fin_data, end_time_for_fin_data, test_days):\n",
        "    \"\"\"\n",
        "    Connect with Yahoo Finance API first to fetch the data within the test_days period\n",
        "    Returns a filled data frame if available, else an empty dataframe\n",
        "    \"\"\"\n",
        "    # Get Stock Prices for the ticker between start_time and end_time\n",
        "    tickers_ssv = ' '.join(ticker_list)\n",
        "    print(\"Fetching tickers for \", tickers_ssv)\n",
        "    start = timeit.default_timer()\n",
        "    ticker_df = yahoo_finance.download(tickers_ssv, start=start_time, end=end_time, group_by=\"ticker\", threads=True)\n",
        "    print(\"Fetching tickers took seconds: \", timeit.default_timer() - start)\n",
        "\n",
        "    no_data_tickers = []\n",
        "    passed_trades = pd.DataFrame()\n",
        "\n",
        "    # If it is a single ticker call, no need to extract the ticker from dataframe\n",
        "    if len(ticker_list) <= 1:\n",
        "        output = connect_and_get_cbi_for_dataframe(ticker_list[0], ticker_df, test_days)\n",
        "        if output.empty:\n",
        "            no_data_tickers.append(ticker_list[0])\n",
        "        return output, no_data_tickers\n",
        "\n",
        "    for ticker in ticker_list:\n",
        "        output = connect_and_get_cbi_for_dataframe(ticker,  ticker_df[ticker], test_days)\n",
        "        if output.empty:\n",
        "            no_data_tickers.append(ticker)\n",
        "        else:       \n",
        "            passed_trades = passed_trades.append(output, ignore_index = True)\n",
        "    return passed_trades, no_data_tickers\n"
      ],
      "execution_count": 6,
      "outputs": []
    },
    {
      "cell_type": "markdown",
      "metadata": {
        "id": "gEPox9yPr5Ay"
      },
      "source": [
        "TEST CODE: In this section, a single ticker is analyzed for a range of dates"
      ]
    },
    {
      "cell_type": "code",
      "metadata": {
        "id": "1viV04-aWMCx",
        "outputId": "1a3a97b4-75c3-4015-ffd2-d16c625ac34c",
        "colab": {
          "base_uri": "https://localhost:8080/",
          "height": 341
        }
      },
      "source": [
        "%%capture capt\n",
        "\n",
        "no_data_tickers = []\n",
        "ticker_list = [\"MMM\"]\n",
        "\n",
        "# start_time and end_time to fetch data from yahoo\n",
        "start_time = '2019-11-14'\n",
        "end_time = '2021-04-01'\n",
        "\n",
        "# start and end dates of trading period\n",
        "_trade_days_start = '2020-01-01'\n",
        "_trade_days_end = '2020-01-10'\n",
        "\n",
        "test_days = pd.bdate_range(_trade_days_start, _trade_days_end)\n",
        "\n",
        "output, no_data_tickers = connect_and_get_cbi_for_ticker_list(ticker_list, start_time, end_time, test_days)     \n",
        "output.head()"
      ],
      "execution_count": 7,
      "outputs": [
        {
          "output_type": "stream",
          "text": [
            "Fetching tickers for  MMM\n",
            "[*********************100%***********************]  1 of 1 completed\n",
            "Fetching tickers took seconds:  0.38204402900001355\n",
            "          Date        Open        High         Low       Close   Adj Close   Volume        RSI     k_fast     d_fast     k_slow     d_slow     d_div  MACD line  Sig Line  MACD_Div  RSI_slope  d_slow_slope  MACD_Div_slope\n",
            "0   2019-11-14  169.979996  172.320007  169.929993  170.929993  162.044067  1613900        NaN        NaN        NaN        NaN        NaN       NaN   0.000000  0.000000  0.000000        NaN           NaN             NaN\n",
            "1   2019-11-15  171.660004  172.690002  171.039993  171.880005  162.944687  2616900        NaN        NaN        NaN        NaN        NaN       NaN   0.075784  0.015157  0.060628        NaN           NaN             NaN\n",
            "2   2019-11-18  170.789993  171.199997  169.169998  170.539993  161.674347  2364600        NaN        NaN        NaN        NaN        NaN       NaN   0.027401  0.017606  0.009795        NaN           NaN             NaN\n",
            "3   2019-11-19  171.720001  171.720001  169.529999  170.679993  161.807053  1791800        NaN        NaN        NaN        NaN        NaN       NaN   0.000349  0.014154 -0.013805        NaN           NaN             NaN\n",
            "4   2019-11-20  169.789993  170.000000  167.149994  167.770004  159.048355  2689500        NaN        NaN        NaN        NaN        NaN       NaN  -0.252985 -0.039274 -0.213712        NaN           NaN       -0.053428\n",
            "..         ...         ...         ...         ...         ...         ...      ...        ...        ...        ...        ...        ...       ...        ...       ...       ...        ...           ...             ...\n",
            "341 2021-03-25  191.639999  193.360001  190.169998  193.100006  193.100006  2221000  67.999048  97.908332  88.019911  88.019911  84.612199  3.407712   3.631495  3.097419  0.534076   0.647634     -1.086417       -0.065187\n",
            "342 2021-03-26  193.009995  194.949997  192.210007  194.880005  194.880005  2677600  70.127541  99.497544  94.807654  94.807654  88.899413  5.908242   3.903616  3.258658  0.644958   0.668724      0.260884       -0.009152\n",
            "343 2021-03-29  193.619995  196.720001  193.509995  195.740005  195.740005  2601800  71.126777  93.598982  97.001619  97.001619  93.276395  3.725225   4.140936  3.435114  0.705822   0.327407      1.900442        0.057159\n",
            "344 2021-03-30  194.979996  196.630005  193.880005  194.639999  194.639999  1876700  67.993867  85.772897  92.956474  92.956474  94.921916 -1.965442   4.191929  3.586477  0.605453   0.688237      2.672008        0.039192\n",
            "345 2021-03-31  193.940002  194.429993  192.050003  192.679993  192.679993  2426900  62.694866  67.550124  82.307334  82.307334  90.755143 -8.447808   4.027757  3.674733  0.353024  -0.218913      1.535736       -0.045263\n",
            "\n",
            "[346 rows x 19 columns]\n"
          ],
          "name": "stdout"
        },
        {
          "output_type": "execute_result",
          "data": {
            "text/html": [
              "<div>\n",
              "<style scoped>\n",
              "    .dataframe tbody tr th:only-of-type {\n",
              "        vertical-align: middle;\n",
              "    }\n",
              "\n",
              "    .dataframe tbody tr th {\n",
              "        vertical-align: top;\n",
              "    }\n",
              "\n",
              "    .dataframe thead th {\n",
              "        text-align: right;\n",
              "    }\n",
              "</style>\n",
              "<table border=\"1\" class=\"dataframe\">\n",
              "  <thead>\n",
              "    <tr style=\"text-align: right;\">\n",
              "      <th></th>\n",
              "    </tr>\n",
              "  </thead>\n",
              "  <tbody>\n",
              "  </tbody>\n",
              "</table>\n",
              "</div>"
            ],
            "text/plain": [
              "Empty DataFrame\n",
              "Columns: []\n",
              "Index: []"
            ]
          },
          "metadata": {
            "tags": []
          },
          "execution_count": 7
        }
      ]
    },
    {
      "cell_type": "markdown",
      "metadata": {
        "id": "rihga4Gtr5Az"
      },
      "source": [
        "## MAIN CODE - Full SP500"
      ]
    },
    {
      "cell_type": "code",
      "metadata": {
        "id": "ucFZMMUzX0kb"
      },
      "source": [
        "%%capture capt\n",
        "\n",
        "url=\"https://en.wikipedia.org/wiki/List_of_S%26P_500_companies\"\n",
        "##START - only needed when  getting SSLVerificationError in local##\n",
        "context = ssl._create_unverified_context()\n",
        "response = request.urlopen(url, context=context)\n",
        "html = response.read()\n",
        "##END - only needed when  getting SSLVerificationError in local##\n",
        "table=pd.read_html(html)\n",
        "sp500 = table[0]\n",
        "sp500 = sp500[['Symbol','Security','GICS Sector']]\n",
        "sector_list = list(sp500['GICS Sector'].unique())\n",
        "print(sector_list)\n",
        "sp500.head(5)"
      ],
      "execution_count": 20,
      "outputs": []
    },
    {
      "cell_type": "code",
      "metadata": {
        "id": "CyYfPTE8r5A0",
        "tags": []
      },
      "source": [
        "%%capture capt\n",
        "\n",
        "# dropping tickers with . like BRK.B\n",
        "sp500 = sp500[sp500['Symbol'] != \".\"]\n",
        "\n",
        "no_data_tickers = []\n",
        "\n",
        "# intializing dataframe\n",
        "column_names = ['Symbol', 'Trade_Date','CBI_SS','CBI_MACD','CBI','Trade_Price','Price_Delta', \n",
        "                'Avg_Volume', 'RSI_val', 'RSI_slope, intercept', 'SS_val', 'SS_slope, intercept', \n",
        "                'MSCD_Div_val', 'MACD_Div_slope, intercept']\n",
        "\n",
        "passed_trades = pd.DataFrame()\n",
        "\n",
        "# start_time and end_time to fetch data from yahoo\n",
        "start_time = '2019-10-01'\n",
        "end_time = '2021-04-18'\n",
        "\n",
        "# start and end dates of trading period\n",
        "trade_days_start = '2019-04-12'\n",
        "trade_days_end = '2021-04-16'\n",
        "test_days = pd.bdate_range(trade_days_start, trade_days_end)\n",
        "\n",
        "sector_list = list(sp500['GICS Sector'].unique())\n",
        "total = sp500['Symbol'].nunique()\n",
        "\n",
        "sector_list = ['Energy']\n",
        "#ticker_list = ['APA']\n",
        "\n",
        "for sector in sector_list:\n",
        "    ticker_list = list(sp500[sp500['GICS Sector']==sector]['Symbol'])\n",
        "    passed_trades_df, no_data_tickers_list =  connect_and_get_cbi_for_ticker_list(ticker_list, start_time, end_time, test_days)\n",
        "    print(\"Passed df for \", ticker_list)\n",
        "    print(passed_trades_df)\n",
        "    print(\"Done passed df\")\n",
        "    passed_trades = passed_trades.append(passed_trades_df)\n",
        "    no_data_tickers.append(no_data_tickers_list)\n",
        "\n",
        "if not passed_trades.size:\n",
        "    raise Exception(\"No passed trades  found\")\n",
        "\n",
        "passed_trades = passed_trades.merge(sp500, how='left', on='Symbol')\n",
        "passed_trades.head()\n",
        "\n",
        "run_time = datetime.datetime.now().date().isoformat()\n",
        "filename = 'sp500_passed_trades2018'+str(run_time)+'.csv'\n",
        "passed_trades.to_csv(filename)\n",
        "#sp500.to_csv('sp500.csv')"
      ],
      "execution_count": null,
      "outputs": []
    },
    {
      "cell_type": "code",
      "metadata": {
        "id": "Ll71vwdno3GI",
        "outputId": "c1bc9bc5-02ad-4430-aec8-a4a86db6365f",
        "colab": {
          "base_uri": "https://localhost:8080/",
          "height": 309
        }
      },
      "source": [
        "passed_trades.sort_values(by=['Trade_Date', 'CBI'], ascending=False, inplace=True)\n",
        "passed_trades[passed_trades['CBI']<0.30].head(15)"
      ],
      "execution_count": 10,
      "outputs": [
        {
          "output_type": "execute_result",
          "data": {
            "text/html": [
              "<div>\n",
              "<style scoped>\n",
              "    .dataframe tbody tr th:only-of-type {\n",
              "        vertical-align: middle;\n",
              "    }\n",
              "\n",
              "    .dataframe tbody tr th {\n",
              "        vertical-align: top;\n",
              "    }\n",
              "\n",
              "    .dataframe thead th {\n",
              "        text-align: right;\n",
              "    }\n",
              "</style>\n",
              "<table border=\"1\" class=\"dataframe\">\n",
              "  <thead>\n",
              "    <tr style=\"text-align: right;\">\n",
              "      <th></th>\n",
              "      <th>Symbol</th>\n",
              "      <th>Trade_Date</th>\n",
              "      <th>CBI_SS</th>\n",
              "      <th>CBI_MACD</th>\n",
              "      <th>CBI</th>\n",
              "      <th>Trade_Price</th>\n",
              "      <th>Price_Delta</th>\n",
              "      <th>Avg_Volume</th>\n",
              "      <th>RSI_val</th>\n",
              "      <th>RSI_slope, intercept</th>\n",
              "      <th>SS_val</th>\n",
              "      <th>SS_slope, intercept</th>\n",
              "      <th>MSCD_Div_val</th>\n",
              "      <th>MACD_Div_slope, intercept</th>\n",
              "      <th>Security</th>\n",
              "      <th>GICS Sector</th>\n",
              "    </tr>\n",
              "  </thead>\n",
              "  <tbody>\n",
              "    <tr>\n",
              "      <th>27</th>\n",
              "      <td>EOG</td>\n",
              "      <td>2020-09-18</td>\n",
              "      <td>0.108118</td>\n",
              "      <td>0.011767</td>\n",
              "      <td>0.059942</td>\n",
              "      <td>40.709999</td>\n",
              "      <td>-14.492748</td>\n",
              "      <td>[5681428.571428572]</td>\n",
              "      <td>41.663315</td>\n",
              "      <td>[0.6200210639585251]</td>\n",
              "      <td>27.837640</td>\n",
              "      <td>[3.786876187631907]</td>\n",
              "      <td>-0.000841</td>\n",
              "      <td>[0.12461703305191801]</td>\n",
              "      <td>EOG Resources</td>\n",
              "      <td>Energy</td>\n",
              "    </tr>\n",
              "    <tr>\n",
              "      <th>57</th>\n",
              "      <td>NOV</td>\n",
              "      <td>2020-09-17</td>\n",
              "      <td>0.067732</td>\n",
              "      <td>0.084328</td>\n",
              "      <td>0.076030</td>\n",
              "      <td>11.850000</td>\n",
              "      <td>-26.919835</td>\n",
              "      <td>[4344385.714285715]</td>\n",
              "      <td>49.949046</td>\n",
              "      <td>[1.4461313837901457]</td>\n",
              "      <td>31.354648</td>\n",
              "      <td>[4.351636760193238]</td>\n",
              "      <td>-0.003027</td>\n",
              "      <td>[0.02711916572719719]</td>\n",
              "      <td>NOV Inc.</td>\n",
              "      <td>Energy</td>\n",
              "    </tr>\n",
              "    <tr>\n",
              "      <th>5</th>\n",
              "      <td>APA</td>\n",
              "      <td>2020-09-04</td>\n",
              "      <td>0.047487</td>\n",
              "      <td>0.516853</td>\n",
              "      <td>0.282170</td>\n",
              "      <td>14.600000</td>\n",
              "      <td>-32.534246</td>\n",
              "      <td>[6281114.285714285]</td>\n",
              "      <td>48.598731</td>\n",
              "      <td>[0.7193683487060686]</td>\n",
              "      <td>30.949740</td>\n",
              "      <td>[2.45931059389084]</td>\n",
              "      <td>-0.091472</td>\n",
              "      <td>[0.0073024047593598165]</td>\n",
              "      <td>APA Corporation</td>\n",
              "      <td>Energy</td>\n",
              "    </tr>\n",
              "    <tr>\n",
              "      <th>64</th>\n",
              "      <td>OXY</td>\n",
              "      <td>2020-08-10</td>\n",
              "      <td>0.319689</td>\n",
              "      <td>0.048964</td>\n",
              "      <td>0.184327</td>\n",
              "      <td>16.480000</td>\n",
              "      <td>-21.359221</td>\n",
              "      <td>[21592357.14285714]</td>\n",
              "      <td>50.008542</td>\n",
              "      <td>[1.0215323703196637]</td>\n",
              "      <td>23.606214</td>\n",
              "      <td>[2.152261709002296]</td>\n",
              "      <td>-0.005237</td>\n",
              "      <td>[0.026888372905771896]</td>\n",
              "      <td>Occidental Petroleum</td>\n",
              "      <td>Energy</td>\n",
              "    </tr>\n",
              "    <tr>\n",
              "      <th>25</th>\n",
              "      <td>EOG</td>\n",
              "      <td>2020-07-06</td>\n",
              "      <td>0.052838</td>\n",
              "      <td>0.547135</td>\n",
              "      <td>0.299987</td>\n",
              "      <td>50.410000</td>\n",
              "      <td>0.019834</td>\n",
              "      <td>[3361257.1428571427]</td>\n",
              "      <td>47.186277</td>\n",
              "      <td>[0.7107537253138473]</td>\n",
              "      <td>28.943232</td>\n",
              "      <td>[4.212384007837455]</td>\n",
              "      <td>-0.412920</td>\n",
              "      <td>[0.10340354283061212]</td>\n",
              "      <td>EOG Resources</td>\n",
              "      <td>Energy</td>\n",
              "    </tr>\n",
              "  </tbody>\n",
              "</table>\n",
              "</div>"
            ],
            "text/plain": [
              "   Symbol Trade_Date    CBI_SS  CBI_MACD       CBI  Trade_Price  Price_Delta            Avg_Volume    RSI_val  RSI_slope, intercept     SS_val  SS_slope, intercept  MSCD_Div_val MACD_Div_slope, intercept              Security GICS Sector\n",
              "27    EOG 2020-09-18  0.108118  0.011767  0.059942    40.709999   -14.492748   [5681428.571428572]  41.663315  [0.6200210639585251]  27.837640  [3.786876187631907]     -0.000841     [0.12461703305191801]         EOG Resources      Energy\n",
              "57    NOV 2020-09-17  0.067732  0.084328  0.076030    11.850000   -26.919835   [4344385.714285715]  49.949046  [1.4461313837901457]  31.354648  [4.351636760193238]     -0.003027     [0.02711916572719719]              NOV Inc.      Energy\n",
              "5     APA 2020-09-04  0.047487  0.516853  0.282170    14.600000   -32.534246   [6281114.285714285]  48.598731  [0.7193683487060686]  30.949740   [2.45931059389084]     -0.091472   [0.0073024047593598165]       APA Corporation      Energy\n",
              "64    OXY 2020-08-10  0.319689  0.048964  0.184327    16.480000   -21.359221   [21592357.14285714]  50.008542  [1.0215323703196637]  23.606214  [2.152261709002296]     -0.005237    [0.026888372905771896]  Occidental Petroleum      Energy\n",
              "25    EOG 2020-07-06  0.052838  0.547135  0.299987    50.410000     0.019834  [3361257.1428571427]  47.186277  [0.7107537253138473]  28.943232  [4.212384007837455]     -0.412920     [0.10340354283061212]         EOG Resources      Energy"
            ]
          },
          "metadata": {
            "tags": []
          },
          "execution_count": 10
        }
      ]
    },
    {
      "cell_type": "markdown",
      "metadata": {
        "id": "_6VZnQwRr5A1"
      },
      "source": [
        "## Plots"
      ]
    },
    {
      "cell_type": "code",
      "metadata": {
        "id": "DUyyogDtr5A1",
        "outputId": "c953fb9d-abf6-475e-d871-e6e19b56b01e",
        "colab": {
          "base_uri": "https://localhost:8080/",
          "height": 576
        }
      },
      "source": [
        "passed_trades = pd.read_csv(filename)\n",
        "x = passed_trades['CBI']\n",
        "y = passed_trades['Price_Delta'].values\n",
        "plt.plot(x,y,'o', color='black')\n",
        "passed_trades.head(5)"
      ],
      "execution_count": 12,
      "outputs": [
        {
          "output_type": "execute_result",
          "data": {
            "text/html": [
              "<div>\n",
              "<style scoped>\n",
              "    .dataframe tbody tr th:only-of-type {\n",
              "        vertical-align: middle;\n",
              "    }\n",
              "\n",
              "    .dataframe tbody tr th {\n",
              "        vertical-align: top;\n",
              "    }\n",
              "\n",
              "    .dataframe thead th {\n",
              "        text-align: right;\n",
              "    }\n",
              "</style>\n",
              "<table border=\"1\" class=\"dataframe\">\n",
              "  <thead>\n",
              "    <tr style=\"text-align: right;\">\n",
              "      <th></th>\n",
              "      <th>Unnamed: 0</th>\n",
              "      <th>Symbol</th>\n",
              "      <th>Trade_Date</th>\n",
              "      <th>CBI_SS</th>\n",
              "      <th>CBI_MACD</th>\n",
              "      <th>CBI</th>\n",
              "      <th>Trade_Price</th>\n",
              "      <th>Price_Delta</th>\n",
              "      <th>Avg_Volume</th>\n",
              "      <th>RSI_val</th>\n",
              "      <th>RSI_slope, intercept</th>\n",
              "      <th>SS_val</th>\n",
              "      <th>SS_slope, intercept</th>\n",
              "      <th>MSCD_Div_val</th>\n",
              "      <th>MACD_Div_slope, intercept</th>\n",
              "      <th>Security</th>\n",
              "      <th>GICS Sector</th>\n",
              "    </tr>\n",
              "  </thead>\n",
              "  <tbody>\n",
              "    <tr>\n",
              "      <th>0</th>\n",
              "      <td>0</td>\n",
              "      <td>APA</td>\n",
              "      <td>2020-02-06</td>\n",
              "      <td>0.571035</td>\n",
              "      <td>1.134891</td>\n",
              "      <td>0.852963</td>\n",
              "      <td>28.940001</td>\n",
              "      <td>-15.583967</td>\n",
              "      <td>[4537857.14285714]</td>\n",
              "      <td>52.887552</td>\n",
              "      <td>[0.38262746]</td>\n",
              "      <td>18.579297</td>\n",
              "      <td>[3.25792216]</td>\n",
              "      <td>-0.485332</td>\n",
              "      <td>[0.07787881]</td>\n",
              "      <td>APA Corporation</td>\n",
              "      <td>Energy</td>\n",
              "    </tr>\n",
              "    <tr>\n",
              "      <th>1</th>\n",
              "      <td>1</td>\n",
              "      <td>APA</td>\n",
              "      <td>2020-02-07</td>\n",
              "      <td>0.311115</td>\n",
              "      <td>1.198936</td>\n",
              "      <td>0.755026</td>\n",
              "      <td>28.110001</td>\n",
              "      <td>1.672000</td>\n",
              "      <td>[4345500.]</td>\n",
              "      <td>47.629217</td>\n",
              "      <td>[0.11054772]</td>\n",
              "      <td>23.777703</td>\n",
              "      <td>[4.03567505]</td>\n",
              "      <td>-0.455467</td>\n",
              "      <td>[0.0824804]</td>\n",
              "      <td>APA Corporation</td>\n",
              "      <td>Energy</td>\n",
              "    </tr>\n",
              "    <tr>\n",
              "      <th>2</th>\n",
              "      <td>2</td>\n",
              "      <td>APA</td>\n",
              "      <td>2020-02-20</td>\n",
              "      <td>0.713499</td>\n",
              "      <td>0.712364</td>\n",
              "      <td>0.712931</td>\n",
              "      <td>28.580000</td>\n",
              "      <td>-71.133660</td>\n",
              "      <td>[3050485.71428571]</td>\n",
              "      <td>51.903741</td>\n",
              "      <td>[0.73135617]</td>\n",
              "      <td>44.269976</td>\n",
              "      <td>[2.71258265]</td>\n",
              "      <td>-0.123398</td>\n",
              "      <td>[0.04306909]</td>\n",
              "      <td>APA Corporation</td>\n",
              "      <td>Energy</td>\n",
              "    </tr>\n",
              "    <tr>\n",
              "      <th>3</th>\n",
              "      <td>3</td>\n",
              "      <td>APA</td>\n",
              "      <td>2020-07-06</td>\n",
              "      <td>0.357183</td>\n",
              "      <td>0.869133</td>\n",
              "      <td>0.613158</td>\n",
              "      <td>13.530000</td>\n",
              "      <td>10.125646</td>\n",
              "      <td>[13046714.28571429]</td>\n",
              "      <td>51.153303</td>\n",
              "      <td>[0.37837095]</td>\n",
              "      <td>22.856343</td>\n",
              "      <td>[0.08496084]</td>\n",
              "      <td>-0.185830</td>\n",
              "      <td>[0.01330804]</td>\n",
              "      <td>APA Corporation</td>\n",
              "      <td>Energy</td>\n",
              "    </tr>\n",
              "    <tr>\n",
              "      <th>4</th>\n",
              "      <td>4</td>\n",
              "      <td>APA</td>\n",
              "      <td>2020-08-31</td>\n",
              "      <td>0.444375</td>\n",
              "      <td>1.319328</td>\n",
              "      <td>0.881851</td>\n",
              "      <td>14.800000</td>\n",
              "      <td>0.945942</td>\n",
              "      <td>[5375885.71428571]</td>\n",
              "      <td>50.130257</td>\n",
              "      <td>[0.2479007]</td>\n",
              "      <td>21.112498</td>\n",
              "      <td>[3.23063115]</td>\n",
              "      <td>-0.120682</td>\n",
              "      <td>[0.02152013]</td>\n",
              "      <td>APA Corporation</td>\n",
              "      <td>Energy</td>\n",
              "    </tr>\n",
              "  </tbody>\n",
              "</table>\n",
              "</div>"
            ],
            "text/plain": [
              "   Unnamed: 0 Symbol  Trade_Date    CBI_SS  CBI_MACD       CBI  Trade_Price  Price_Delta           Avg_Volume    RSI_val RSI_slope, intercept     SS_val SS_slope, intercept  MSCD_Div_val MACD_Div_slope, intercept         Security GICS Sector\n",
              "0           0    APA  2020-02-06  0.571035  1.134891  0.852963    28.940001   -15.583967   [4537857.14285714]  52.887552         [0.38262746]  18.579297        [3.25792216]     -0.485332              [0.07787881]  APA Corporation      Energy\n",
              "1           1    APA  2020-02-07  0.311115  1.198936  0.755026    28.110001     1.672000           [4345500.]  47.629217         [0.11054772]  23.777703        [4.03567505]     -0.455467               [0.0824804]  APA Corporation      Energy\n",
              "2           2    APA  2020-02-20  0.713499  0.712364  0.712931    28.580000   -71.133660   [3050485.71428571]  51.903741         [0.73135617]  44.269976        [2.71258265]     -0.123398              [0.04306909]  APA Corporation      Energy\n",
              "3           3    APA  2020-07-06  0.357183  0.869133  0.613158    13.530000    10.125646  [13046714.28571429]  51.153303         [0.37837095]  22.856343        [0.08496084]     -0.185830              [0.01330804]  APA Corporation      Energy\n",
              "4           4    APA  2020-08-31  0.444375  1.319328  0.881851    14.800000     0.945942   [5375885.71428571]  50.130257          [0.2479007]  21.112498        [3.23063115]     -0.120682              [0.02152013]  APA Corporation      Energy"
            ]
          },
          "metadata": {
            "tags": []
          },
          "execution_count": 12
        },
        {
          "output_type": "display_data",
          "data": {
            "image/png": "[encoded data removed]",
            "text/plain": [
              "<Figure size 432x288 with 1 Axes>"
            ]
          },
          "metadata": {
            "tags": [],
            "needs_background": "light"
          }
        }
      ]
    },
    {
      "cell_type": "code",
      "metadata": {
        "id": "pzHxlWu7r5A1",
        "outputId": "52e89aba-1d15-4b50-c8a1-78873076e942",
        "colab": {
          "base_uri": "https://localhost:8080/",
          "height": 468
        }
      },
      "source": [
        "CBI_limit = 0.25\n",
        "passed_trades['CBI_cutoff'] = np.where(passed_trades['CBI']<=CBI_limit, 'Below', 'Above')\n",
        "import seaborn as sns\n",
        "sns.set_style('whitegrid')\n",
        "fig, ax = plt.subplots(figsize=(18, 7))\n",
        "plt.xticks(rotation=60)\n",
        "ax=sns.violinplot(x=\"GICS Sector\", y=\"Price_Delta\", data=passed_trades, \n",
        "                  inner=\"quartile\", split=True, hue='CBI_cutoff', scale='width', bw=0.2)"
      ],
      "execution_count": 13,
      "outputs": [
        {
          "output_type": "display_data",
          "data": {
            "image/png": "[encoded data removed]",
            "text/plain": [
              "<Figure size 1296x504 with 1 Axes>"
            ]
          },
          "metadata": {
            "tags": []
          }
        }
      ]
    },
    {
      "cell_type": "code",
      "metadata": {
        "id": "w3ta9TGer5A1",
        "outputId": "1aa19953-b695-4c41-aace-6c695af56c8d",
        "colab": {
          "base_uri": "https://localhost:8080/",
          "height": 468
        }
      },
      "source": [
        "sns.set_style('darkgrid')\n",
        "fig, ax = plt.subplots(figsize=(18, 7))\n",
        "plt.xticks(rotation=60)\n",
        "ax=sns.violinplot(x=\"GICS Sector\", y=\"Price_Delta\", data=passed_trades[passed_trades['CBI']<=CBI_limit], \n",
        "                  inner=\"sticks\", scale='count', bw=0.2, palette='muted')\n"
      ],
      "execution_count": 14,
      "outputs": [
        {
          "output_type": "display_data",
          "data": {
            "image/png": "[encoded data removed]",
            "text/plain": [
              "<Figure size 1296x504 with 1 Axes>"
            ]
          },
          "metadata": {
            "tags": []
          }
        }
      ]
    },
    {
      "cell_type": "code",
      "metadata": {
        "id": "jRD3jzPZr5A2",
        "outputId": "b3de542d-f982-4724-ec82-c1cc144d5d09",
        "colab": {
          "base_uri": "https://localhost:8080/",
          "height": 374
        }
      },
      "source": [
        "CBI_limit = .25\n",
        "passed_trades_limit = passed_trades[passed_trades['CBI']<=CBI_limit]\n",
        "passed_trades['Profit or Loss'] = np.where(passed_trades['Price_Delta']>0., 'Profit', 'Loss')\n",
        "\n",
        "data = passed_trades_limit.groupby(\"Profit or Loss\").agg({'Profit or Loss': ['count'], 'Price_Delta': 'mean'})\n",
        "data.plot.pie(y='Profit or Loss', autopct=\"%.1f%%\");\n",
        "print(data)\n",
        "data.reset_index(inplace=True)\n",
        "print(\"Expected norm return = \",(data.iloc[1,1]*data.iloc[1,2]+data.iloc[0,1]*data.iloc[0,2])/(data.iloc[1,1]+data.iloc[0,1]),\"% in 3 weeks\")\n",
        "print(\"Expected total return = \",(data.iloc[1,1]*data.iloc[1,2]/100+data.iloc[0,1]*data.iloc[0,2]/100),\"investement = \", (data.iloc[1,1]+data.iloc[0,1]))"
      ],
      "execution_count": 15,
      "outputs": [
        {
          "output_type": "error",
          "ename": "KeyError",
          "evalue": "ignored",
          "traceback": [
            "\u001b[0;31m---------------------------------------------------------------------------\u001b[0m",
            "\u001b[0;31mKeyError\u001b[0m                                  Traceback (most recent call last)",
            "\u001b[0;32m<ipython-input-15-55b27905a9d2>\u001b[0m in \u001b[0;36m<module>\u001b[0;34m()\u001b[0m\n\u001b[1;32m      3\u001b[0m \u001b[0mpassed_trades\u001b[0m\u001b[0;34m[\u001b[0m\u001b[0;34m'Profit or Loss'\u001b[0m\u001b[0;34m]\u001b[0m \u001b[0;34m=\u001b[0m \u001b[0mnp\u001b[0m\u001b[0;34m.\u001b[0m\u001b[0mwhere\u001b[0m\u001b[0;34m(\u001b[0m\u001b[0mpassed_trades\u001b[0m\u001b[0;34m[\u001b[0m\u001b[0;34m'Price_Delta'\u001b[0m\u001b[0;34m]\u001b[0m\u001b[0;34m>\u001b[0m\u001b[0;36m0.\u001b[0m\u001b[0;34m,\u001b[0m \u001b[0;34m'Profit'\u001b[0m\u001b[0;34m,\u001b[0m \u001b[0;34m'Loss'\u001b[0m\u001b[0;34m)\u001b[0m\u001b[0;34m\u001b[0m\u001b[0;34m\u001b[0m\u001b[0m\n\u001b[1;32m      4\u001b[0m \u001b[0;34m\u001b[0m\u001b[0m\n\u001b[0;32m----> 5\u001b[0;31m \u001b[0mdata\u001b[0m \u001b[0;34m=\u001b[0m \u001b[0mpassed_trades_limit\u001b[0m\u001b[0;34m.\u001b[0m\u001b[0mgroupby\u001b[0m\u001b[0;34m(\u001b[0m\u001b[0;34m\"Profit or Loss\"\u001b[0m\u001b[0;34m)\u001b[0m\u001b[0;34m.\u001b[0m\u001b[0magg\u001b[0m\u001b[0;34m(\u001b[0m\u001b[0;34m{\u001b[0m\u001b[0;34m'Profit or Loss'\u001b[0m\u001b[0;34m:\u001b[0m \u001b[0;34m[\u001b[0m\u001b[0;34m'count'\u001b[0m\u001b[0;34m]\u001b[0m\u001b[0;34m,\u001b[0m \u001b[0;34m'Price_Delta'\u001b[0m\u001b[0;34m:\u001b[0m \u001b[0;34m'mean'\u001b[0m\u001b[0;34m}\u001b[0m\u001b[0;34m)\u001b[0m\u001b[0;34m\u001b[0m\u001b[0;34m\u001b[0m\u001b[0m\n\u001b[0m\u001b[1;32m      6\u001b[0m \u001b[0mdata\u001b[0m\u001b[0;34m.\u001b[0m\u001b[0mplot\u001b[0m\u001b[0;34m.\u001b[0m\u001b[0mpie\u001b[0m\u001b[0;34m(\u001b[0m\u001b[0my\u001b[0m\u001b[0;34m=\u001b[0m\u001b[0;34m'Profit or Loss'\u001b[0m\u001b[0;34m,\u001b[0m \u001b[0mautopct\u001b[0m\u001b[0;34m=\u001b[0m\u001b[0;34m\"%.1f%%\"\u001b[0m\u001b[0;34m)\u001b[0m\u001b[0;34m;\u001b[0m\u001b[0;34m\u001b[0m\u001b[0;34m\u001b[0m\u001b[0m\n\u001b[1;32m      7\u001b[0m \u001b[0mprint\u001b[0m\u001b[0;34m(\u001b[0m\u001b[0mdata\u001b[0m\u001b[0;34m)\u001b[0m\u001b[0;34m\u001b[0m\u001b[0;34m\u001b[0m\u001b[0m\n",
            "\u001b[0;32m/usr/local/lib/python3.7/dist-packages/pandas/core/frame.py\u001b[0m in \u001b[0;36mgroupby\u001b[0;34m(self, by, axis, level, as_index, sort, group_keys, squeeze, observed, dropna)\u001b[0m\n\u001b[1;32m   6523\u001b[0m             \u001b[0msqueeze\u001b[0m\u001b[0;34m=\u001b[0m\u001b[0msqueeze\u001b[0m\u001b[0;34m,\u001b[0m\u001b[0;34m\u001b[0m\u001b[0;34m\u001b[0m\u001b[0m\n\u001b[1;32m   6524\u001b[0m             \u001b[0mobserved\u001b[0m\u001b[0;34m=\u001b[0m\u001b[0mobserved\u001b[0m\u001b[0;34m,\u001b[0m\u001b[0;34m\u001b[0m\u001b[0;34m\u001b[0m\u001b[0m\n\u001b[0;32m-> 6525\u001b[0;31m             \u001b[0mdropna\u001b[0m\u001b[0;34m=\u001b[0m\u001b[0mdropna\u001b[0m\u001b[0;34m,\u001b[0m\u001b[0;34m\u001b[0m\u001b[0;34m\u001b[0m\u001b[0m\n\u001b[0m\u001b[1;32m   6526\u001b[0m         )\n\u001b[1;32m   6527\u001b[0m \u001b[0;34m\u001b[0m\u001b[0m\n",
            "\u001b[0;32m/usr/local/lib/python3.7/dist-packages/pandas/core/groupby/groupby.py\u001b[0m in \u001b[0;36m__init__\u001b[0;34m(self, obj, keys, axis, level, grouper, exclusions, selection, as_index, sort, group_keys, squeeze, observed, mutated, dropna)\u001b[0m\n\u001b[1;32m    531\u001b[0m                 \u001b[0mobserved\u001b[0m\u001b[0;34m=\u001b[0m\u001b[0mobserved\u001b[0m\u001b[0;34m,\u001b[0m\u001b[0;34m\u001b[0m\u001b[0;34m\u001b[0m\u001b[0m\n\u001b[1;32m    532\u001b[0m                 \u001b[0mmutated\u001b[0m\u001b[0;34m=\u001b[0m\u001b[0mself\u001b[0m\u001b[0;34m.\u001b[0m\u001b[0mmutated\u001b[0m\u001b[0;34m,\u001b[0m\u001b[0;34m\u001b[0m\u001b[0;34m\u001b[0m\u001b[0m\n\u001b[0;32m--> 533\u001b[0;31m                 \u001b[0mdropna\u001b[0m\u001b[0;34m=\u001b[0m\u001b[0mself\u001b[0m\u001b[0;34m.\u001b[0m\u001b[0mdropna\u001b[0m\u001b[0;34m,\u001b[0m\u001b[0;34m\u001b[0m\u001b[0;34m\u001b[0m\u001b[0m\n\u001b[0m\u001b[1;32m    534\u001b[0m             )\n\u001b[1;32m    535\u001b[0m \u001b[0;34m\u001b[0m\u001b[0m\n",
            "\u001b[0;32m/usr/local/lib/python3.7/dist-packages/pandas/core/groupby/grouper.py\u001b[0m in \u001b[0;36mget_grouper\u001b[0;34m(obj, key, axis, level, sort, observed, mutated, validate, dropna)\u001b[0m\n\u001b[1;32m    784\u001b[0m                 \u001b[0min_axis\u001b[0m\u001b[0;34m,\u001b[0m \u001b[0mname\u001b[0m\u001b[0;34m,\u001b[0m \u001b[0mlevel\u001b[0m\u001b[0;34m,\u001b[0m \u001b[0mgpr\u001b[0m \u001b[0;34m=\u001b[0m \u001b[0;32mFalse\u001b[0m\u001b[0;34m,\u001b[0m \u001b[0;32mNone\u001b[0m\u001b[0;34m,\u001b[0m \u001b[0mgpr\u001b[0m\u001b[0;34m,\u001b[0m \u001b[0;32mNone\u001b[0m\u001b[0;34m\u001b[0m\u001b[0;34m\u001b[0m\u001b[0m\n\u001b[1;32m    785\u001b[0m             \u001b[0;32melse\u001b[0m\u001b[0;34m:\u001b[0m\u001b[0;34m\u001b[0m\u001b[0;34m\u001b[0m\u001b[0m\n\u001b[0;32m--> 786\u001b[0;31m                 \u001b[0;32mraise\u001b[0m \u001b[0mKeyError\u001b[0m\u001b[0;34m(\u001b[0m\u001b[0mgpr\u001b[0m\u001b[0;34m)\u001b[0m\u001b[0;34m\u001b[0m\u001b[0;34m\u001b[0m\u001b[0m\n\u001b[0m\u001b[1;32m    787\u001b[0m         \u001b[0;32melif\u001b[0m \u001b[0misinstance\u001b[0m\u001b[0;34m(\u001b[0m\u001b[0mgpr\u001b[0m\u001b[0;34m,\u001b[0m \u001b[0mGrouper\u001b[0m\u001b[0;34m)\u001b[0m \u001b[0;32mand\u001b[0m \u001b[0mgpr\u001b[0m\u001b[0;34m.\u001b[0m\u001b[0mkey\u001b[0m \u001b[0;32mis\u001b[0m \u001b[0;32mnot\u001b[0m \u001b[0;32mNone\u001b[0m\u001b[0;34m:\u001b[0m\u001b[0;34m\u001b[0m\u001b[0;34m\u001b[0m\u001b[0m\n\u001b[1;32m    788\u001b[0m             \u001b[0;31m# Add key to exclusions\u001b[0m\u001b[0;34m\u001b[0m\u001b[0;34m\u001b[0m\u001b[0;34m\u001b[0m\u001b[0m\n",
            "\u001b[0;31mKeyError\u001b[0m: 'Profit or Loss'"
          ]
        }
      ]
    },
    {
      "cell_type": "code",
      "metadata": {
        "id": "Sql2m-Upr5A2"
      },
      "source": [
        "\n",
        "sns.set_style('darkgrid')\n",
        "fig, ax = plt.subplots(figsize=(18, 7))\n",
        "plt.xticks(rotation=60)\n",
        "ax=sns.violinplot(x=\"GICS Sector\", y=\"CBI\", data=passed_trades, hue='Profit or Loss',\n",
        "                  inner=\"quartile\", scale='width', bw=0.2, palette='muted', split=True)"
      ],
      "execution_count": null,
      "outputs": []
    }
  ]
}