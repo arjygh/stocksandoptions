{
  "nbformat": 4,
  "nbformat_minor": 0,
  "metadata": {
    "colab": {
      "name": "TA-options.ipynb",
      "provenance": [],
      "collapsed_sections": [],
      "include_colab_link": true
    },
    "kernelspec": {
      "display_name": "Python 3",
      "language": "python",
      "name": "python3"
    },
    "language_info": {
      "codemirror_mode": {
        "name": "ipython",
        "version": 3
      },
      "file_extension": ".py",
      "mimetype": "text/x-python",
      "name": "python",
      "nbconvert_exporter": "python",
      "pygments_lexer": "ipython3",
      "version": "3.8.3"
    }
  },
  "cells": [
    {
      "cell_type": "markdown",
      "metadata": {
        "id": "view-in-github",
        "colab_type": "text"
      },
      "source": [
        "<a href=\"https://colab.research.google.com/github/arjygh/stocksandoptions/blob/Use-new-slope-cols/stonks.ipynb\" target=\"_parent\"><img src=\"https://colab.research.google.com/assets/colab-badge.svg\" alt=\"Open In Colab\"/></a>"
      ]
    },
    {
      "cell_type": "markdown",
      "metadata": {
        "id": "VJ0gN6wor5Ar"
      },
      "source": [
        "# Call Buy Indicator Code"
      ]
    },
    {
      "cell_type": "code",
      "metadata": {
        "id": "RyoZ_Qhsr5At"
      },
      "source": [
        ""
      ],
      "execution_count": 2,
      "outputs": []
    },
    {
      "cell_type": "code",
      "metadata": {
        "id": "7ZsWIFAGo3F-"
      },
      "source": [
        "%%capture capt\n",
        "\n",
        "##### Importing all packages #####################################\n",
        "# optional installations: \n",
        "!pip install yfinance --upgrade --no-cache-dir\n",
        "!pip3 install pandas_datareader\n",
        "!pip3 install matplotlib\n",
        "!pip install trading-calendars\n",
        "\n",
        "from IPython.core.display import display, HTML\n",
        "display(HTML(\"<style>.container { width:100% !important; }</style>\"))\n",
        "\n",
        "# ___library_import_statements___\n",
        "import pandas as pd\n",
        "\n",
        "# for pandas_datareader, otherwise it might have issues, sometimes there is some version mismatch\n",
        "pd.core.common.is_list_like = pd.api.types.is_list_like\n",
        "\n",
        "# make pandas to print dataframes nicely\n",
        "pd.set_option('expand_frame_repr', False)  \n",
        "\n",
        "import pandas_datareader.data as web\n",
        "from pandas_datareader import data as pdr\n",
        "import numpy as np\n",
        "import matplotlib.pyplot as plt\n",
        "import datetime as datetime\n",
        "from datetime import timedelta\n",
        "import time\n",
        "import ssl\n",
        "from urllib import request\n",
        "import trading_calendars as tc\n",
        "import pytz\n",
        "\n",
        "#newest yahoo API \n",
        "import yfinance as yahoo_finance\n",
        "\n",
        "#optional \n",
        "yahoo_finance.pdr_override()\n",
        "%matplotlib inline"
      ],
      "execution_count": 3,
      "outputs": []
    },
    {
      "cell_type": "markdown",
      "metadata": {
        "id": "8nZR8oWHr5Av"
      },
      "source": [
        "## Defining Functions"
      ]
    },
    {
      "cell_type": "markdown",
      "metadata": {
        "id": "tU0_428cr5Av"
      },
      "source": [
        "In this section functions for several technical indicators are coded:\n",
        "1. RSI \n",
        "2. Stochastic Slow\n",
        "3. MACD"
      ]
    },
    {
      "cell_type": "code",
      "metadata": {
        "id": "YKeRN92Ao3GF"
      },
      "source": [
        "def computeRSI(dataframe, time_window):\n",
        "    \n",
        "    '''RSI = Relative Strength Index (https://www.investopedia.com/terms/r/rsi.asp)'''\n",
        "    \n",
        "    diff = dataframe.diff(1).dropna()        # diff in one field(one day)\n",
        "\n",
        "    #this preservers dimensions off diff values\n",
        "    up_chg = 0 * diff\n",
        "    down_chg = 0 * diff\n",
        "    \n",
        "    # up change is equal to the positive difference, otherwise equal to zero\n",
        "    up_chg[diff > 0] = diff[ diff>0 ]\n",
        "    \n",
        "    # down change is equal to negative deifference, otherwise equal to zero\n",
        "    down_chg[diff < 0] = diff[ diff < 0 ]\n",
        "    up_chg_avg   = up_chg.ewm(com=time_window-1 , min_periods=time_window).mean()\n",
        "    down_chg_avg = down_chg.ewm(com=time_window-1 , min_periods=time_window).mean()\n",
        "    \n",
        "    rs = abs(up_chg_avg/down_chg_avg)\n",
        "    rsi = 100 - 100/(1+rs)\n",
        "\n",
        "    return rsi\n",
        "\n",
        "\n",
        "def stochastics(dataframe, low, high, close, k, d):\n",
        "    \"\"\"\n",
        "    Fast stochastic calculation\n",
        "    %K = (Current Close - Lowest Low)/\n",
        "    (Highest High - Lowest Low) * 100\n",
        "    %D = 3-day SMA of %K\n",
        "\n",
        "    Slow stochastic calculation\n",
        "    %K = %D of fast stochastic\n",
        "    %D = 3-day SMA of %K\n",
        "\n",
        "    When %K crosses above %D, buy signal \n",
        "    When the %K crosses below %D, sell signal\n",
        "    \n",
        "    https://www.investopedia.com/terms/s/stochasticoscillator.asp\n",
        "    \"\"\"\n",
        "\n",
        "    df = dataframe.copy()\n",
        "\n",
        "    # Set minimum low and maximum high of the k stoch\n",
        "    low_min  = df[low].rolling( window = k ).min()\n",
        "    high_max = df[high].rolling( window = k ).max()\n",
        "\n",
        "    # Fast Stochastic\n",
        "    df['k_fast'] = 100 * (df[close] - low_min)/(high_max - low_min)\n",
        "    df['d_fast'] = df['k_fast'].rolling(window = d).mean()\n",
        "\n",
        "    # Slow Stochastic\n",
        "    df['k_slow'] = df[\"d_fast\"]\n",
        "    df['d_slow'] = df['k_slow'].rolling(window = d).mean()\n",
        "    df['d_div'] = df['d_fast'] - df['d_slow']\n",
        "\n",
        "    return df\n",
        "\n",
        "def MACD(dataframe,close,span1,span2,sig_span):\n",
        "    \n",
        "    \"\"\"\n",
        "    EMA = exponential moving average\n",
        "    MACD = Moving Average Convergence Divergence = 12Period EMA - 26Period EMA\n",
        "    Signal  = 9Period EMA of MACD\n",
        "    \n",
        "    https://www.investopedia.com/terms/m/macd.asp\n",
        "    \n",
        "    \"\"\"\n",
        "    \n",
        "    df = dataframe.copy()\n",
        "    exp1 = df[close].ewm(span=span1, adjust=False).mean()\n",
        "    exp2 = df[close].ewm(span=span2, adjust=False).mean()\n",
        "    macd = exp1-exp2\n",
        "    exp3 = macd.ewm(span=sig_span, adjust=False).mean()\n",
        "    df['MACD line'] = macd\n",
        "    df['Sig Line'] = exp3\n",
        "    df['MACD_Div'] = macd-exp3\n",
        "    return df\n",
        "\n",
        "def CBI_func(ticker, ticker_df, test_days, holding_days, vol_cutoff, vol_avg_window, \n",
        "             RSI_trend_days, RSI_low, RSI_hi, MACD_Div_trend_days, d_slow_trend_days, d_slow_low, d_slow_hi):\n",
        "    \"\"\"\n",
        "    ticker - S&P500 ticker for which stock prices are obtained\n",
        "    start_time - earliest date at which the stock_price is obtained from yfinance\n",
        "    end_time - latest date at which the stock price is obtained from yfinance\n",
        "    trade_date - a date between the start_time and end_time at which a hypothetical trade is entered\n",
        "\n",
        "    All Technical Indicators are calculated with the \"PAST\" data and Price changes are calculated with the \"FUTURE\" data as defined below:\n",
        "    start_time........................trade_date..........................end_time\n",
        "    [..............PAST..............]          [...........FUTURE...............]\n",
        "\n",
        "    CBI [Cumulative Buying Index]:\n",
        "    - Average of scores calculated from value on trade date, slope and intercept of 'x' days before the trade date of the following Indicators: \n",
        "      - Stochastic slow - 14 day average\n",
        "      - MACD Divergence - standard 12,26,9 day\n",
        "    - Values closer to zero are strong indicators and the distance from zero defines the strength of the indicator, however, within small intervals \n",
        "      distance from zero may not necessarily correlate with strength. For eg: \n",
        "        - CBI of 0.1 and 0.5 is highly likely to indicate strong and weak buy respectively\n",
        "        - CBI of 0.1 and 0.15 may not indicate that the former is a stronger buy than the latter\n",
        "\n",
        "    \"\"\"\n",
        "    df0 = ticker_df\n",
        "    \n",
        "    # Call functions to calculate the Technical Indicators for each date (row) in the dataframe,...\n",
        "    # append as columns to the same dataframe                                                                            \n",
        "    df0['RSI'] = computeRSI(df0['Adj Close'], 14)\n",
        "    df0 = stochastics( df0, 'Low', 'High', 'Close', 14, 3 )\n",
        "    df0 = MACD(df0, 'Close', 12, 26, 9)\n",
        "    # df0 = slope(df0,3,'RSI')\n",
        "    df0['RSI_slope'] = df0['RSI'].diff(RSI_trend_days)/RSI_trend_days\n",
        "    df0['d_slow_slope'] = df0['d_slow'].diff(d_slow_trend_days)/d_slow_trend_days\n",
        "    df0['MACD_Div_slope'] = df0['MACD_Div'].diff(d_slow_trend_days)/d_slow_trend_days\n",
        "\n",
        "    print(df0)\n",
        "    df0['avg_volume'] = df0.iloc[:,6].rolling(window=vol_avg_window).mean()\n",
        "    \n",
        "\n",
        "    passed_trades = pd.DataFrame()\n",
        "    \n",
        "    # intializing dataframe\n",
        "    column_names = ['Symbol', 'Trade_Date','CBI_SS','CBI_MACD','CBI','Trade_Price','Price_Delta', \n",
        "                    'Avg_Volume', 'RSI_val', 'RSI_slope, intercept', 'SS_val', 'SS_slope, intercept', \n",
        "                    'MSCD_Div_val', 'MACD_Div_slope, intercept']\n",
        "    \n",
        "\n",
        "    df0['Price_Delta'] = (df0['Close'].rolling(holding_days).max().shift(-holding_days+1) - df0['Close'])/df0['Close']*100.\n",
        "    df0['Price_Delta'] = np.where(df0['Price_Delta']<=0., \n",
        "                                        (df0['Close'].rolling(holding_days).min().shift(-holding_days+1) \n",
        "                                         - df0['Close'])/df0['Close']*100., df0['Price_Delta'])\n",
        "    \n",
        "    for trade_date in test_days:\n",
        "        if xnys.is_session(pd.Timestamp(trade_date, tz='UTC')):\n",
        "            # Date to enter a trade\n",
        "            day0 = trade_date\n",
        "            day_past_MACD = day0 + timedelta(days = MACD_Div_trend_days)\n",
        "\n",
        "            CBIL = [] #Call Buying Indicator List\n",
        "    \n",
        "            #trade date values\n",
        "            RSI_val = df0[df0['Date']==day0]['RSI'].values\n",
        "            MACD_Div_val = df0[df0['Date']==day0]['MACD_Div'].values\n",
        "            d_slow_val = df0[df0['Date']==day0]['d_slow'].values\n",
        "            avg_volume = df0[df0['Date']==day0]['avg_volume'].values\n",
        "            price_delta = df0[df0['Date']==day0]['Price_Delta'].values\n",
        "            trade_date_price = df0[df0['Date']==day0]['Close'].values\n",
        "            RSI_slope = df0[df0['Date']==day0]['RSI_slope'].values\n",
        "            MACD_Div_slope = df0[df0['Date']==day0]['MACD_Div_slope'].values\n",
        "            d_slow_slope = df0[df0['Date']==day0]['d_slow_slope'].values\n",
        "            MACD_Div_val_prev = df0[df0['Date']==day_past_MACD]['MACD_Div'].values\n",
        "\n",
        "    \n",
        "            #slopes\n",
        "            # Extract location of date\n",
        "            # j = df0.loc[(df0[\"Date\"] == day0)].index.item()\n",
        "            # RSI_fit = slope_calculator(df0[j-RSI_trend_days:j+1], RSI_trend_days, day0, 'RSI') #num_days >=3\n",
        "            # MACD_Div_fit = slope_calculator(df0[j-MACD_Div_trend_days:j+1], MACD_Div_trend_days, day0, 'MACD_Div') #num_days >=3\n",
        "            # d_slow_fit = slope_calculator(df0[j-d_slow_trend_days:j+1], d_slow_trend_days, day0, 'd_slow') #num_days >=3\n",
        "    \n",
        "            # Vol and RSI crieria\n",
        "            if avg_volume > vol_cutoff and RSI_val > RSI_low and RSI_val < RSI_hi and RSI_slope > 0:\n",
        "                CBIL.append(day0)\n",
        "    \n",
        "                # TECHNICAL INDICATORS ALGEBRA #\n",
        "                if d_slow_val > d_slow_low and d_slow_val < d_slow_hi and d_slow_slope > 0:\n",
        "                    CBIL.append((abs(d_slow_val - 0.5*(d_slow_hi + d_slow_low))/(0.5*(d_slow_hi - d_slow_low))).item())\n",
        "                else: \n",
        "                    CBIL.append(10.0)\n",
        "    \n",
        "                if MACD_Div_val < 0 and MACD_Div_val_prev < 0 and MACD_Div_slope > 0:\n",
        "                    CBIL.append((MACD_Div_val/MACD_Div_val_prev).item())\n",
        "                else: \n",
        "                    CBIL.append(10.0)\n",
        "\n",
        "      \n",
        "                CBIL.append(trade_date_price)\n",
        "                CBIL.append(price_delta)\n",
        "                CBI = 0.5*(CBIL[1] + CBIL[2])\n",
        "                CBIL.append(CBI)\n",
        "                \n",
        "                if CBIL[5] < 1.0:\n",
        "                    output = [ticker, CBIL[0], CBIL[1], CBIL[2], CBIL[5], CBIL[3].item(), CBIL[4].item(), \n",
        "                              avg_volume, RSI_val.item(), RSI_fit, d_slow_val.item(), d_slow_fit, MACD_Div_val.item(), MACD_Div_fit]\n",
        "                    passed = pd.DataFrame([output], columns=column_names)\n",
        "                    passed_trades = passed_trades.append(passed, ignore_index = True)\n",
        "        \n",
        "            \n",
        "    return passed_trades\n",
        "  "
      ],
      "execution_count": 8,
      "outputs": []
    },
    {
      "cell_type": "markdown",
      "metadata": {
        "id": "7SK-3UfEr5Ax"
      },
      "source": [
        "## Main Code - Testing for 1 Ticker"
      ]
    },
    {
      "cell_type": "markdown",
      "metadata": {
        "id": "gEPox9yPr5Ay"
      },
      "source": [
        "TEST CODE: In this section, a single ticker is analyzed for a range of dates"
      ]
    },
    {
      "cell_type": "code",
      "metadata": {
        "id": "1viV04-aWMCx"
      },
      "source": [
        "%%capture capt\n",
        "\n",
        "xnys = tc.get_calendar(\"XNYS\")\n",
        "\n",
        "# start_time and end_time to fetch data from yahoo\n",
        "start_time = '2019-11-14'\n",
        "end_time = '2021-04-01'\n",
        "\n",
        "# start and end dates of trading period\n",
        "trade_days_start = '2020-01-01'\n",
        "trade_days_end = '2020-01-10'\n",
        "\n",
        "ticker_list = ['MMM']\n",
        "\n",
        "test_days = pd.bdate_range(trade_days_start, trade_days_end)\n",
        "\n",
        "#print(test_days)\n",
        "#CBI_all = []\n",
        "\n",
        "for ticker in ticker_list:\n",
        "    # Get Stock Prices for the ticker between start_time and end_time\n",
        "    connected = False\n",
        "    while not connected:\n",
        "        try:\n",
        "            ticker_df = web.get_data_yahoo(ticker_list, start=start_time, end=end_time)\n",
        "            connected = True;\n",
        "        except Exception as e:\n",
        "            print(\"Ticker: \", ticker,\"  >>  Error: \" + str(e))\n",
        "            continue        \n",
        "    \n",
        "    ticker_df.reset_index(inplace=True)\n",
        "    \n",
        "\n",
        "    try:\n",
        "        output = CBI_func(ticker, ticker_df, test_days, holding_days = 15, vol_cutoff = 2.0e6, \n",
        "                          vol_avg_window = 7, RSI_trend_days = 7, RSI_low = 40., RSI_hi = 75., MACD_Div_trend_days = 4, \n",
        "                          d_slow_trend_days = 4, d_slow_low = 10., d_slow_hi = 50.)\n",
        "    except Exception as e:\n",
        "        print('Analyzed Security: ',ticker, 'No Data')\n",
        "        #print(\"Ticker: \", ticker,\"  >>  Error: \" + str(e))\n",
        "        no_data_tickers.append(ticker)\n",
        "        #traceback.print_exc()\n",
        "        continue\n",
        "        \n",
        "output.head()"
      ],
      "execution_count": 11,
      "outputs": []
    },
    {
      "cell_type": "markdown",
      "metadata": {
        "id": "rihga4Gtr5Az"
      },
      "source": [
        "## MAIN CODE - Full SP500"
      ]
    },
    {
      "cell_type": "code",
      "metadata": {
        "id": "ucFZMMUzX0kb"
      },
      "source": [
        "%%capture capt\n",
        "\n",
        "url=\"https://en.wikipedia.org/wiki/List_of_S%26P_500_companies\"\n",
        "##START - only needed when  getting SSLVerificationError in local##\n",
        "context = ssl._create_unverified_context()\n",
        "response = request.urlopen(url, context=context)\n",
        "html = response.read()\n",
        "##END - only needed when  getting SSLVerificationError in local##\n",
        "table=pd.read_html(html)\n",
        "sp500 = table[0]\n",
        "sp500 = sp500[['Symbol','Security','GICS Sector']]\n",
        "sector_list = list(sp500['GICS Sector'].unique())\n",
        "print(sector_list)\n",
        "sp500.head(5)"
      ],
      "execution_count": 12,
      "outputs": []
    },
    {
      "cell_type": "code",
      "metadata": {
        "id": "CyYfPTE8r5A0"
      },
      "source": [
        "%%capture capt\n",
        "\n",
        "# dropping tickers with . like BRK.B\n",
        "sp500 = sp500[sp500['Symbol'] != \".\"]\n",
        "\n",
        "# intializing dataframe\n",
        "column_names = ['Symbol', 'Trade_Date','CBI_SS','CBI_MACD','CBI','Trade_Price','Price_Delta', \n",
        "                'Avg_Volume', 'RSI_val', 'RSI_slope, intercept', 'SS_val', 'SS_slope, intercept', \n",
        "                'MSCD_Div_val', 'MACD_Div_slope, intercept']\n",
        "\n",
        "passed_trades = pd.DataFrame()\n",
        "\n",
        "# import NYSE calendar\n",
        "xnys = tc.get_calendar(\"XNYS\")\n",
        "\n",
        "\n",
        "# start_time and end_time to fetch data from yahoo\n",
        "start_time = '2020-10-01'\n",
        "end_time = '2021-04-18'\n",
        "\n",
        "# start and end dates of trading period\n",
        "trade_days_start = '2021-04-12'\n",
        "trade_days_end = '2021-04-16'\n",
        "test_days = pd.bdate_range(trade_days_start, trade_days_end)\n",
        "\n",
        "#sector_list = ['Energy']\n",
        "#ticker_list = ['APA']\n",
        "\n",
        "sector_list = list(sp500['GICS Sector'].unique())\n",
        "count = 0\n",
        "total = sp500['Symbol'].nunique()\n",
        "\n",
        "for sector in sector_list:\n",
        "    ticker_list = list(sp500[sp500['GICS Sector']==sector]['Symbol'])\n",
        "    for ticker in ticker_list:\n",
        "        count = count + 1\n",
        "        connected = False\n",
        "        while not connected:\n",
        "            try:\n",
        "                ticker_df = web.get_data_yahoo(ticker, start=start_time, end=end_time)\n",
        "                connected = True;\n",
        "            except Exception as e:\n",
        "                print(\"Ticker: \", ticker,\"  >>  Error: \" + str(e))\n",
        "                continue \n",
        "        ticker_df.reset_index(inplace=True)\n",
        "        print('Analyzing Security: ',ticker, '......',count,'/',total)\n",
        "        \n",
        "        try:\n",
        "            output = CBI_func(ticker, ticker_df, test_days, holding_days = 1, vol_cutoff = 2.0e6, \n",
        "                              vol_avg_window = 7, RSI_trend_days = 7, RSI_low = 40., RSI_hi = 75., MACD_Div_trend_days = 4, \n",
        "                              d_slow_trend_days = 4, d_slow_low = 10., d_slow_hi = 50.)\n",
        "            \n",
        "            passed_trades = passed_trades.append(output, ignore_index = True)\n",
        "            \n",
        "        except Exception as e:\n",
        "            print('Analyzed Security: ',ticker, 'No Data')\n",
        "            no_data_tickers.append(ticker)\n",
        "            #traceback.print_exc()\n",
        "            continue\n",
        "                \n",
        "\n",
        "passed_trades = passed_trades.merge(sp500, how='left',on='Symbol')\n",
        "passed_trades.head()\n",
        "\n",
        "run_time = datetime.datetime.now().date().isoformat()\n",
        "filename = 'sp500_passed_trades2018'+str(run_time)+'.csv'\n",
        "passed_trades.to_csv(filename)\n",
        "#sp500.to_csv('sp500.csv')"
      ],
      "execution_count": null,
      "outputs": []
    },
    {
      "cell_type": "code",
      "metadata": {
        "id": "Ll71vwdno3GI"
      },
      "source": [
        "passed_trades.sort_values(by=['Trade_Date', 'CBI'], ascending=False, inplace=True)\n",
        "passed_trades[passed_trades['CBI']<0.30].head(15)"
      ],
      "execution_count": null,
      "outputs": []
    },
    {
      "cell_type": "markdown",
      "metadata": {
        "id": "_6VZnQwRr5A1"
      },
      "source": [
        "## Plots"
      ]
    },
    {
      "cell_type": "code",
      "metadata": {
        "id": "DUyyogDtr5A1"
      },
      "source": [
        "passed_trades = pd.read_csv('sp500_passed_trades2018_2021-04-18.csv')\n",
        "x = passed_trades['CBI']\n",
        "y = passed_trades['Price_Delta'].values\n",
        "plt.plot(x,y,'o', color='black')\n",
        "passed_trades.head(5)"
      ],
      "execution_count": null,
      "outputs": []
    },
    {
      "cell_type": "code",
      "metadata": {
        "id": "pzHxlWu7r5A1"
      },
      "source": [
        "CBI_limit = 0.25\n",
        "passed_trades['CBI_cutoff'] = np.where(passed_trades['CBI']<=CBI_limit, 'Below', 'Above')\n",
        "import seaborn as sns\n",
        "sns.set_style('whitegrid')\n",
        "fig, ax = plt.subplots(figsize=(18, 7))\n",
        "plt.xticks(rotation=60)\n",
        "ax=sns.violinplot(x=\"GICS Sector\", y=\"Price_Delta\", data=passed_trades, \n",
        "                  inner=\"quartile\", split=True, hue='CBI_cutoff', scale='width', bw=0.2)"
      ],
      "execution_count": null,
      "outputs": []
    },
    {
      "cell_type": "code",
      "metadata": {
        "id": "w3ta9TGer5A1"
      },
      "source": [
        "sns.set_style('darkgrid')\n",
        "fig, ax = plt.subplots(figsize=(18, 7))\n",
        "plt.xticks(rotation=60)\n",
        "ax=sns.violinplot(x=\"GICS Sector\", y=\"Price_Delta\", data=passed_trades[passed_trades['CBI']<=CBI_limit], \n",
        "                  inner=\"sticks\", scale='count', bw=0.2, palette='muted')\n"
      ],
      "execution_count": null,
      "outputs": []
    },
    {
      "cell_type": "code",
      "metadata": {
        "id": "jRD3jzPZr5A2"
      },
      "source": [
        "CBI_limit = .25\n",
        "passed_trades_limit = passed_trades[passed_trades['CBI']<=CBI_limit]\n",
        "passed_trades['Profit or Loss'] = np.where(passed_trades['Price_Delta']>0., 'Profit', 'Loss')\n",
        "\n",
        "data = passed_trades_limit.groupby(\"Profit or Loss\").agg({'Profit or Loss': ['count'], 'Price_Delta': 'mean'})\n",
        "data.plot.pie(y='Profit or Loss', autopct=\"%.1f%%\");\n",
        "print(data)\n",
        "data.reset_index(inplace=True)\n",
        "print(\"Expected norm return = \",(data.iloc[1,1]*data.iloc[1,2]+data.iloc[0,1]*data.iloc[0,2])/(data.iloc[1,1]+data.iloc[0,1]),\"% in 3 weeks\")\n",
        "print(\"Expected total return = \",(data.iloc[1,1]*data.iloc[1,2]/100+data.iloc[0,1]*data.iloc[0,2]/100),\"investement = \", (data.iloc[1,1]+data.iloc[0,1]))"
      ],
      "execution_count": null,
      "outputs": []
    },
    {
      "cell_type": "code",
      "metadata": {
        "id": "Sql2m-Upr5A2"
      },
      "source": [
        "\n",
        "sns.set_style('darkgrid')\n",
        "fig, ax = plt.subplots(figsize=(18, 7))\n",
        "plt.xticks(rotation=60)\n",
        "ax=sns.violinplot(x=\"GICS Sector\", y=\"CBI\", data=passed_trades, hue='Profit or Loss',\n",
        "                  inner=\"quartile\", scale='width', bw=0.2, palette='muted', split=True)"
      ],
      "execution_count": null,
      "outputs": []
    },
    {
      "cell_type": "code",
      "metadata": {
        "id": "gCiBm4mBr5A2"
      },
      "source": [
        ""
      ],
      "execution_count": null,
      "outputs": []
    },
    {
      "cell_type": "code",
      "metadata": {
        "id": "_3uZgE70r5A2"
      },
      "source": [
        ""
      ],
      "execution_count": null,
      "outputs": []
    }
  ]
}